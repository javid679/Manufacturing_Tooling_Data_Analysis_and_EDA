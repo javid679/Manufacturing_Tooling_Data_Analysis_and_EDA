{
 "cells": [
  {
   "cell_type": "code",
   "execution_count": 84,
   "id": "2dd1c5f4",
   "metadata": {},
   "outputs": [],
   "source": [
    "import numpy as np\n",
    "import pandas as pd"
   ]
  },
  {
   "cell_type": "markdown",
   "id": "6afee14d",
   "metadata": {},
   "source": [
    "# Task #1: Reading Customer Information "
   ]
  },
  {
   "cell_type": "markdown",
   "id": "530e177e",
   "metadata": {},
   "source": [
    "### a) Import the data from ‘Accounts Ledger.xlsx’ into a data structure of your program, referred to as the Accounts table hereafter."
   ]
  },
  {
   "cell_type": "code",
   "execution_count": 85,
   "id": "2e0003f9",
   "metadata": {},
   "outputs": [],
   "source": [
    "account_df = pd.read_excel(\"Account Ledger.xlsx\")"
   ]
  },
  {
   "cell_type": "code",
   "execution_count": 86,
   "id": "6c48bc45",
   "metadata": {},
   "outputs": [
    {
     "data": {
      "text/html": [
       "<div>\n",
       "<style scoped>\n",
       "    .dataframe tbody tr th:only-of-type {\n",
       "        vertical-align: middle;\n",
       "    }\n",
       "\n",
       "    .dataframe tbody tr th {\n",
       "        vertical-align: top;\n",
       "    }\n",
       "\n",
       "    .dataframe thead th {\n",
       "        text-align: right;\n",
       "    }\n",
       "</style>\n",
       "<table border=\"1\" class=\"dataframe\">\n",
       "  <thead>\n",
       "    <tr style=\"text-align: right;\">\n",
       "      <th></th>\n",
       "      <th>Accounts</th>\n",
       "      <th>Billing Addresses</th>\n",
       "      <th>Product Related?</th>\n",
       "    </tr>\n",
       "  </thead>\n",
       "  <tbody>\n",
       "    <tr>\n",
       "      <th>0</th>\n",
       "      <td>Packaging Corporation of America</td>\n",
       "      <td>Lake Forest, Illinois</td>\n",
       "      <td>0</td>\n",
       "    </tr>\n",
       "    <tr>\n",
       "      <th>1</th>\n",
       "      <td>American Electric Power</td>\n",
       "      <td>Columbus, Ohio</td>\n",
       "      <td>1</td>\n",
       "    </tr>\n",
       "    <tr>\n",
       "      <th>2</th>\n",
       "      <td>Citizens Financial Group</td>\n",
       "      <td>Providence, Rhode Island</td>\n",
       "      <td>1</td>\n",
       "    </tr>\n",
       "    <tr>\n",
       "      <th>3</th>\n",
       "      <td>Dover Corporation</td>\n",
       "      <td>NaN</td>\n",
       "      <td>1</td>\n",
       "    </tr>\n",
       "    <tr>\n",
       "      <th>4</th>\n",
       "      <td>Cincinnati Financial</td>\n",
       "      <td>Fairfield, Ohio</td>\n",
       "      <td>1</td>\n",
       "    </tr>\n",
       "  </tbody>\n",
       "</table>\n",
       "</div>"
      ],
      "text/plain": [
       "                           Accounts         Billing Addresses  \\\n",
       "0  Packaging Corporation of America     Lake Forest, Illinois   \n",
       "1           American Electric Power            Columbus, Ohio   \n",
       "2          Citizens Financial Group  Providence, Rhode Island   \n",
       "3                 Dover Corporation                       NaN   \n",
       "4              Cincinnati Financial           Fairfield, Ohio   \n",
       "\n",
       "   Product Related?  \n",
       "0                 0  \n",
       "1                 1  \n",
       "2                 1  \n",
       "3                 1  \n",
       "4                 1  "
      ]
     },
     "execution_count": 86,
     "metadata": {},
     "output_type": "execute_result"
    }
   ],
   "source": [
    "account_df.head()"
   ]
  },
  {
   "cell_type": "markdown",
   "id": "a526c785",
   "metadata": {},
   "source": [
    "### b) Validate the accuracy of the data read using Python functions."
   ]
  },
  {
   "cell_type": "code",
   "execution_count": 87,
   "id": "a639a8ce",
   "metadata": {},
   "outputs": [
    {
     "name": "stdout",
     "output_type": "stream",
     "text": [
      "<class 'pandas.core.frame.DataFrame'>\n",
      "RangeIndex: 182 entries, 0 to 181\n",
      "Data columns (total 3 columns):\n",
      " #   Column             Non-Null Count  Dtype \n",
      "---  ------             --------------  ----- \n",
      " 0   Accounts           182 non-null    object\n",
      " 1   Billing Addresses  160 non-null    object\n",
      " 2   Product Related?   182 non-null    int64 \n",
      "dtypes: int64(1), object(2)\n",
      "memory usage: 4.4+ KB\n"
     ]
    }
   ],
   "source": [
    "account_df.info()"
   ]
  },
  {
   "cell_type": "code",
   "execution_count": 88,
   "id": "e340dcd0",
   "metadata": {},
   "outputs": [
    {
     "name": "stdout",
     "output_type": "stream",
     "text": [
      "Accounts              0\n",
      "Billing Addresses    22\n",
      "Product Related?      0\n",
      "dtype: int64\n"
     ]
    }
   ],
   "source": [
    "#Checking the values which are null and count of them\n",
    "nullvalues = account_df.isnull().sum()\n",
    "print(nullvalues)"
   ]
  },
  {
   "cell_type": "code",
   "execution_count": 89,
   "id": "f5a82cf2",
   "metadata": {},
   "outputs": [
    {
     "data": {
      "text/html": [
       "<div>\n",
       "<style scoped>\n",
       "    .dataframe tbody tr th:only-of-type {\n",
       "        vertical-align: middle;\n",
       "    }\n",
       "\n",
       "    .dataframe tbody tr th {\n",
       "        vertical-align: top;\n",
       "    }\n",
       "\n",
       "    .dataframe thead th {\n",
       "        text-align: right;\n",
       "    }\n",
       "</style>\n",
       "<table border=\"1\" class=\"dataframe\">\n",
       "  <thead>\n",
       "    <tr style=\"text-align: right;\">\n",
       "      <th></th>\n",
       "      <th>Product Related?</th>\n",
       "    </tr>\n",
       "  </thead>\n",
       "  <tbody>\n",
       "    <tr>\n",
       "      <th>count</th>\n",
       "      <td>182.000000</td>\n",
       "    </tr>\n",
       "    <tr>\n",
       "      <th>mean</th>\n",
       "      <td>0.681319</td>\n",
       "    </tr>\n",
       "    <tr>\n",
       "      <th>std</th>\n",
       "      <td>0.467251</td>\n",
       "    </tr>\n",
       "    <tr>\n",
       "      <th>min</th>\n",
       "      <td>0.000000</td>\n",
       "    </tr>\n",
       "    <tr>\n",
       "      <th>25%</th>\n",
       "      <td>0.000000</td>\n",
       "    </tr>\n",
       "    <tr>\n",
       "      <th>50%</th>\n",
       "      <td>1.000000</td>\n",
       "    </tr>\n",
       "    <tr>\n",
       "      <th>75%</th>\n",
       "      <td>1.000000</td>\n",
       "    </tr>\n",
       "    <tr>\n",
       "      <th>max</th>\n",
       "      <td>1.000000</td>\n",
       "    </tr>\n",
       "  </tbody>\n",
       "</table>\n",
       "</div>"
      ],
      "text/plain": [
       "       Product Related?\n",
       "count        182.000000\n",
       "mean           0.681319\n",
       "std            0.467251\n",
       "min            0.000000\n",
       "25%            0.000000\n",
       "50%            1.000000\n",
       "75%            1.000000\n",
       "max            1.000000"
      ]
     },
     "execution_count": 89,
     "metadata": {},
     "output_type": "execute_result"
    }
   ],
   "source": [
    "account_df.describe()"
   ]
  },
  {
   "cell_type": "code",
   "execution_count": 90,
   "id": "198d644d",
   "metadata": {},
   "outputs": [
    {
     "name": "stdout",
     "output_type": "stream",
     "text": [
      "182\n"
     ]
    }
   ],
   "source": [
    "#Checking the unique values in the Accounts column\n",
    "\n",
    "diff_values = account_df['Accounts'].unique() \n",
    "print(len(diff_values))\n"
   ]
  },
  {
   "cell_type": "markdown",
   "id": "61cb6bb6",
   "metadata": {},
   "source": [
    "### c) Add or revise column labels as needed."
   ]
  },
  {
   "cell_type": "code",
   "execution_count": 91,
   "id": "5f78de0d",
   "metadata": {},
   "outputs": [
    {
     "name": "stdout",
     "output_type": "stream",
     "text": [
      "                       Account Name           Billing Address  \\\n",
      "0  Packaging Corporation of America     Lake Forest, Illinois   \n",
      "1           American Electric Power            Columbus, Ohio   \n",
      "2          Citizens Financial Group  Providence, Rhode Island   \n",
      "3                 Dover Corporation                       NaN   \n",
      "4              Cincinnati Financial           Fairfield, Ohio   \n",
      "\n",
      "   Product Related?  \n",
      "0                 0  \n",
      "1                 1  \n",
      "2                 1  \n",
      "3                 1  \n",
      "4                 1  \n"
     ]
    }
   ],
   "source": [
    "#Changing the column name of Accounts to Account Name\n",
    "account_df.rename(columns={'Accounts':'Account Name'}, inplace=True)\n",
    "account_df.rename(columns={'Billing Addresses':'Billing Address'}, inplace=True)\n",
    "\n",
    "print(account_df.head())"
   ]
  },
  {
   "cell_type": "markdown",
   "id": "4a9a8b41",
   "metadata": {},
   "source": [
    "### d) During the preliminary data review, the project team found that “Product Related?” is not needed for this project. Remove the “Product Related?” column from the data structure."
   ]
  },
  {
   "cell_type": "code",
   "execution_count": 92,
   "id": "7a6cd697",
   "metadata": {},
   "outputs": [],
   "source": [
    "account_df_copy = account_df.copy()"
   ]
  },
  {
   "cell_type": "code",
   "execution_count": 93,
   "id": "dff66b92",
   "metadata": {},
   "outputs": [
    {
     "name": "stdout",
     "output_type": "stream",
     "text": [
      "                       Account Name           Billing Address\n",
      "0  Packaging Corporation of America     Lake Forest, Illinois\n",
      "1           American Electric Power            Columbus, Ohio\n",
      "2          Citizens Financial Group  Providence, Rhode Island\n",
      "3                 Dover Corporation                       NaN\n",
      "4              Cincinnati Financial           Fairfield, Ohio\n"
     ]
    }
   ],
   "source": [
    "account_df_copy.drop('Product Related?', inplace=True, axis=1)\n",
    "\n",
    "print(account_df_copy.head())"
   ]
  },
  {
   "cell_type": "markdown",
   "id": "2a10698c",
   "metadata": {},
   "source": [
    "### e) Identify and calculate missing values in the dataset. For example, calculate the number of entries containing missing data. Based on the number of missing data, decide how to handle missing data."
   ]
  },
  {
   "cell_type": "code",
   "execution_count": 94,
   "id": "f60a7bc5",
   "metadata": {},
   "outputs": [
    {
     "name": "stdout",
     "output_type": "stream",
     "text": [
      "Account Ledger Data info:\n",
      "<class 'pandas.core.frame.DataFrame'>\n",
      "RangeIndex: 182 entries, 0 to 181\n",
      "Data columns (total 2 columns):\n",
      " #   Column           Non-Null Count  Dtype \n",
      "---  ------           --------------  ----- \n",
      " 0   Account Name     182 non-null    object\n",
      " 1   Billing Address  160 non-null    object\n",
      "dtypes: object(2)\n",
      "memory usage: 3.0+ KB\n",
      "None\n",
      "Null values in each column of Account Ledger table:\n",
      "Account Name        0\n",
      "Billing Address    22\n",
      "dtype: int64\n"
     ]
    }
   ],
   "source": [
    "print(\"Account Ledger Data info:\")\n",
    "print(account_df_copy.info())\n",
    "\n",
    "\n",
    "nullvalues_account = account_df_copy.isnull().sum()\n",
    "\n",
    "print(\"Null values in each column of Account Ledger table:\")\n",
    "print(nullvalues_account)"
   ]
  },
  {
   "cell_type": "markdown",
   "id": "29a6e0bd",
   "metadata": {},
   "source": [
    "### f) The project team found several customers’ addresses are missing in ‘Accounts Ledger.xlsx’ and requested the missing information. M&F Company provided the missing data, which is listed in the table below. Properly update the information in the Accounts table. "
   ]
  },
  {
   "cell_type": "code",
   "execution_count": 95,
   "id": "7775905d",
   "metadata": {},
   "outputs": [
    {
     "name": "stdout",
     "output_type": "stream",
     "text": [
      "                         Account Name           Billing Address\n",
      "0    Packaging Corporation of America     Lake Forest, Illinois\n",
      "1             American Electric Power            Columbus, Ohio\n",
      "2            Citizens Financial Group  Providence, Rhode Island\n",
      "3                   Dover Corporation   Downers Grove, Illinois\n",
      "4                Cincinnati Financial           Fairfield, Ohio\n",
      "..                                ...                       ...\n",
      "177                          WestRock          Atlanta, Georgia\n",
      "178                     Zimmer Biomet           Warsaw, Indiana\n",
      "179                    Steel Dynamics       Fort Wayne, Indiana\n",
      "180                    American Tower         Fort Worth, Texas\n",
      "181                           Pentair   Worsley, United Kingdom\n",
      "\n",
      "[182 rows x 2 columns]\n"
     ]
    }
   ],
   "source": [
    "updated_miss_values = {\n",
    "\"Dover Corporation\":\"Downers Grove, Illinois\",\n",
    "\"Vici Properties\":\"New York City, New York\",\n",
    "\"Corteva\":\"Indianapolis, Indiana\",\n",
    "\"Microsoft\":\"Redmond, Washington\",\n",
    "\"Teleflex\":\"Wayne, Pennsylvania\",\n",
    "\"DTE Energy\":\"Detroit, Michigan\",\n",
    "\"Cardinal Health\":\"Dublin, Ohio\",\n",
    "\"Citigroup\":\"New York City, New York\",\n",
    "\"Simon Property Group\":\"Indianapolis, Indiana\",\n",
    "\"LyondellBasell\":\"Rotterdam, Netherlands\",\n",
    "\"Monolithic Power Systems\":\"Kirkland, Washington\",\n",
    "\"Johnson Controls\":\"Cork, Ireland\",\n",
    "\"SBA Communications\":\"Boca Raton, Florida\",\n",
    "\"Evergy\":\"Kansas City, Missouri\",\n",
    "\"Brown & Forman\":\"Louisville, Kentucky\",\n",
    "\"Mastercard\":\"Harrison, New York\",\n",
    "\"Tyler Technologies\":\"Plano, Texas\",\n",
    "\"Broadcom Inc.\":\"Palo Alto, California\",\n",
    "\"Yum! Brands\":\"Louisville, Kentucky\",\n",
    "\"CH Robinson\":\"Eden Prairie, Minnesota\",\n",
    "\"WestRock\":\"Atlanta, Georgia\",\n",
    "\"American Tower\":\"Fort Worth, Texas\"\n",
    "}\n",
    "\n",
    "\n",
    "for acctName, billaddr in updated_miss_values.items():\n",
    "    account_df_copy.loc[account_df_copy['Account Name']==acctName, 'Billing Address']=billaddr\n",
    "\n",
    "print(account_df_copy)"
   ]
  },
  {
   "cell_type": "markdown",
   "id": "7620faf5",
   "metadata": {},
   "source": [
    "### g) Calculate missing values in the Accounts table. After the above operation, there will not be missing data in the table. "
   ]
  },
  {
   "cell_type": "code",
   "execution_count": 96,
   "id": "9deb8a57",
   "metadata": {},
   "outputs": [
    {
     "name": "stdout",
     "output_type": "stream",
     "text": [
      "Account Ledger Data info after updaing the values:\n",
      "<class 'pandas.core.frame.DataFrame'>\n",
      "RangeIndex: 182 entries, 0 to 181\n",
      "Data columns (total 2 columns):\n",
      " #   Column           Non-Null Count  Dtype \n",
      "---  ------           --------------  ----- \n",
      " 0   Account Name     182 non-null    object\n",
      " 1   Billing Address  182 non-null    object\n",
      "dtypes: object(2)\n",
      "memory usage: 3.0+ KB\n",
      "None\n",
      "Checking for Null values in each column of Account Ledger table after update:\n",
      "Account Name       0\n",
      "Billing Address    0\n",
      "dtype: int64\n"
     ]
    }
   ],
   "source": [
    "#Checking the null values after updating the columns\n",
    "\n",
    "print(\"Account Ledger Data info after updaing the values:\")\n",
    "print(account_df_copy.info())\n",
    "\n",
    "\n",
    "nullvalues_check = account_df_copy.isnull().sum()\n",
    "\n",
    "print(\"Checking for Null values in each column of Account Ledger table after update:\")\n",
    "print(nullvalues_check)"
   ]
  },
  {
   "cell_type": "code",
   "execution_count": 97,
   "id": "da6ae20b",
   "metadata": {},
   "outputs": [],
   "source": [
    "#Saving the Account Ledger Table after Updates\n",
    "account_df_copy.to_csv(\"Account_Ledger_Updated.csv\", index=False)"
   ]
  },
  {
   "cell_type": "markdown",
   "id": "a255eeff",
   "metadata": {},
   "source": [
    "# Task #2: Reading Invoice Data"
   ]
  },
  {
   "cell_type": "markdown",
   "id": "8a1d6535",
   "metadata": {},
   "source": [
    "### a) Import the data from 'Invoice Ledger.xlsx' into a data structure of your program, referred to as the Invoice table hereafter. "
   ]
  },
  {
   "cell_type": "code",
   "execution_count": 98,
   "id": "4aa85f46",
   "metadata": {},
   "outputs": [],
   "source": [
    "invoice_df = pd.read_excel(\"Invoice Ledger.xlsx\")"
   ]
  },
  {
   "cell_type": "code",
   "execution_count": 99,
   "id": "f5ae98f1",
   "metadata": {},
   "outputs": [
    {
     "name": "stdout",
     "output_type": "stream",
     "text": [
      "  Invoice date  Amount line Product ID       Account Name\n",
      "0   01/03/2017        56.75         --   Johnson Controls\n",
      "1   01/03/2017        56.75       0102   Johnson Controls\n",
      "2   01/03/2017        38.04         --  Boston Scientific\n",
      "3   01/03/2017        38.04       0102  Boston Scientific\n",
      "4   01/03/2017        74.90         --  Boston Scientific\n",
      "        Amount line\n",
      "count  85333.000000\n",
      "mean     195.235586\n",
      "std      498.959114\n",
      "min    -2160.000000\n",
      "25%       12.800000\n",
      "50%       45.000000\n",
      "75%      161.000000\n",
      "max    17820.000000\n"
     ]
    }
   ],
   "source": [
    "print(invoice_df.head())\n",
    "print(invoice_df.describe())"
   ]
  },
  {
   "cell_type": "markdown",
   "id": "7220d30a",
   "metadata": {},
   "source": [
    "### b) Validate the accuracy of the data read using Python functions."
   ]
  },
  {
   "cell_type": "code",
   "execution_count": 100,
   "id": "6bcd36b4",
   "metadata": {},
   "outputs": [
    {
     "name": "stdout",
     "output_type": "stream",
     "text": [
      "Invoice Ledger Table Data information:\n",
      "<class 'pandas.core.frame.DataFrame'>\n",
      "RangeIndex: 85333 entries, 0 to 85332\n",
      "Data columns (total 4 columns):\n",
      " #   Column        Non-Null Count  Dtype  \n",
      "---  ------        --------------  -----  \n",
      " 0   Invoice date  85333 non-null  object \n",
      " 1   Amount line   85333 non-null  float64\n",
      " 2   Product ID    85333 non-null  object \n",
      " 3   Account Name  85333 non-null  object \n",
      "dtypes: float64(1), object(3)\n",
      "memory usage: 2.6+ MB\n",
      "None\n",
      "Checking for the Null values in each column of the Invoice Ledger Table:\n",
      "Invoice date    0\n",
      "Amount line     0\n",
      "Product ID      0\n",
      "Account Name    0\n",
      "dtype: int64\n"
     ]
    }
   ],
   "source": [
    "#Checking the information related to invoice table\n",
    "print(\"Invoice Ledger Table Data information:\")\n",
    "print(invoice_df.info())\n",
    "\n",
    "#Checking the null values in invoice table\n",
    "nullvalue_invoce = invoice_df.isnull().sum()\n",
    "print(\"Checking for the Null values in each column of the Invoice Ledger Table:\")\n",
    "print(nullvalue_invoce)"
   ]
  },
  {
   "cell_type": "code",
   "execution_count": 101,
   "id": "4728522e",
   "metadata": {},
   "outputs": [
    {
     "name": "stdout",
     "output_type": "stream",
     "text": [
      "      Invoice date  Amount line Product ID          Account Name\n",
      "0       01/03/2017        56.75         --      Johnson Controls\n",
      "2       01/03/2017        38.04         --     Boston Scientific\n",
      "4       01/03/2017        74.90         --     Boston Scientific\n",
      "6       01/03/2017        76.84         --     Boston Scientific\n",
      "8       01/03/2017         5.97         --             Linde plc\n",
      "...            ...          ...        ...                   ...\n",
      "85326   09/29/2023         0.00         --  Willis Towers Watson\n",
      "85327   09/29/2023       418.90         --  Willis Towers Watson\n",
      "85329   09/29/2023         0.00         --  Willis Towers Watson\n",
      "85330   09/29/2023       320.00         --      Jacobs Solutions\n",
      "85332   09/29/2023         0.00         --      Jacobs Solutions\n",
      "\n",
      "[23902 rows x 4 columns]\n"
     ]
    }
   ],
   "source": [
    "#Checking the Count of product id column where values are \"--\"\n",
    "\n",
    "productid_diff = invoice_df[invoice_df['Product ID'] == '--']\n",
    "\n",
    "print(productid_diff)"
   ]
  },
  {
   "cell_type": "markdown",
   "id": "aa6f07f0",
   "metadata": {},
   "source": [
    "### c) Add or revise column labels as needed. Make column labels in Accounts and Invoice tables match if they are for the same data."
   ]
  },
  {
   "cell_type": "code",
   "execution_count": 102,
   "id": "c6632ae5",
   "metadata": {},
   "outputs": [],
   "source": [
    "invoice_df_copy = invoice_df.copy()\n",
    "invoice_df_copy.rename(columns={'Amount line':'Amount'}, inplace=True)"
   ]
  },
  {
   "cell_type": "code",
   "execution_count": 103,
   "id": "8a201c70",
   "metadata": {},
   "outputs": [
    {
     "data": {
      "text/html": [
       "<div>\n",
       "<style scoped>\n",
       "    .dataframe tbody tr th:only-of-type {\n",
       "        vertical-align: middle;\n",
       "    }\n",
       "\n",
       "    .dataframe tbody tr th {\n",
       "        vertical-align: top;\n",
       "    }\n",
       "\n",
       "    .dataframe thead th {\n",
       "        text-align: right;\n",
       "    }\n",
       "</style>\n",
       "<table border=\"1\" class=\"dataframe\">\n",
       "  <thead>\n",
       "    <tr style=\"text-align: right;\">\n",
       "      <th></th>\n",
       "      <th>Invoice date</th>\n",
       "      <th>Amount</th>\n",
       "      <th>Product ID</th>\n",
       "      <th>Account Name</th>\n",
       "    </tr>\n",
       "  </thead>\n",
       "  <tbody>\n",
       "    <tr>\n",
       "      <th>0</th>\n",
       "      <td>01/03/2017</td>\n",
       "      <td>56.75</td>\n",
       "      <td>--</td>\n",
       "      <td>Johnson Controls</td>\n",
       "    </tr>\n",
       "    <tr>\n",
       "      <th>1</th>\n",
       "      <td>01/03/2017</td>\n",
       "      <td>56.75</td>\n",
       "      <td>0102</td>\n",
       "      <td>Johnson Controls</td>\n",
       "    </tr>\n",
       "    <tr>\n",
       "      <th>2</th>\n",
       "      <td>01/03/2017</td>\n",
       "      <td>38.04</td>\n",
       "      <td>--</td>\n",
       "      <td>Boston Scientific</td>\n",
       "    </tr>\n",
       "    <tr>\n",
       "      <th>3</th>\n",
       "      <td>01/03/2017</td>\n",
       "      <td>38.04</td>\n",
       "      <td>0102</td>\n",
       "      <td>Boston Scientific</td>\n",
       "    </tr>\n",
       "    <tr>\n",
       "      <th>4</th>\n",
       "      <td>01/03/2017</td>\n",
       "      <td>74.90</td>\n",
       "      <td>--</td>\n",
       "      <td>Boston Scientific</td>\n",
       "    </tr>\n",
       "  </tbody>\n",
       "</table>\n",
       "</div>"
      ],
      "text/plain": [
       "  Invoice date  Amount Product ID       Account Name\n",
       "0   01/03/2017   56.75         --   Johnson Controls\n",
       "1   01/03/2017   56.75       0102   Johnson Controls\n",
       "2   01/03/2017   38.04         --  Boston Scientific\n",
       "3   01/03/2017   38.04       0102  Boston Scientific\n",
       "4   01/03/2017   74.90         --  Boston Scientific"
      ]
     },
     "execution_count": 103,
     "metadata": {},
     "output_type": "execute_result"
    }
   ],
   "source": [
    "invoice_df_copy.head()"
   ]
  },
  {
   "cell_type": "code",
   "execution_count": 104,
   "id": "6bb4a6c2",
   "metadata": {},
   "outputs": [
    {
     "data": {
      "text/html": [
       "<div>\n",
       "<style scoped>\n",
       "    .dataframe tbody tr th:only-of-type {\n",
       "        vertical-align: middle;\n",
       "    }\n",
       "\n",
       "    .dataframe tbody tr th {\n",
       "        vertical-align: top;\n",
       "    }\n",
       "\n",
       "    .dataframe thead th {\n",
       "        text-align: right;\n",
       "    }\n",
       "</style>\n",
       "<table border=\"1\" class=\"dataframe\">\n",
       "  <thead>\n",
       "    <tr style=\"text-align: right;\">\n",
       "      <th></th>\n",
       "      <th>Invoice Date</th>\n",
       "      <th>Amount</th>\n",
       "      <th>Product ID</th>\n",
       "      <th>Account Name</th>\n",
       "    </tr>\n",
       "  </thead>\n",
       "  <tbody>\n",
       "    <tr>\n",
       "      <th>0</th>\n",
       "      <td>01/03/2017</td>\n",
       "      <td>56.75</td>\n",
       "      <td>--</td>\n",
       "      <td>Johnson Controls</td>\n",
       "    </tr>\n",
       "    <tr>\n",
       "      <th>1</th>\n",
       "      <td>01/03/2017</td>\n",
       "      <td>56.75</td>\n",
       "      <td>0102</td>\n",
       "      <td>Johnson Controls</td>\n",
       "    </tr>\n",
       "    <tr>\n",
       "      <th>2</th>\n",
       "      <td>01/03/2017</td>\n",
       "      <td>38.04</td>\n",
       "      <td>--</td>\n",
       "      <td>Boston Scientific</td>\n",
       "    </tr>\n",
       "    <tr>\n",
       "      <th>3</th>\n",
       "      <td>01/03/2017</td>\n",
       "      <td>38.04</td>\n",
       "      <td>0102</td>\n",
       "      <td>Boston Scientific</td>\n",
       "    </tr>\n",
       "    <tr>\n",
       "      <th>4</th>\n",
       "      <td>01/03/2017</td>\n",
       "      <td>74.90</td>\n",
       "      <td>--</td>\n",
       "      <td>Boston Scientific</td>\n",
       "    </tr>\n",
       "  </tbody>\n",
       "</table>\n",
       "</div>"
      ],
      "text/plain": [
       "  Invoice Date  Amount Product ID       Account Name\n",
       "0   01/03/2017   56.75         --   Johnson Controls\n",
       "1   01/03/2017   56.75       0102   Johnson Controls\n",
       "2   01/03/2017   38.04         --  Boston Scientific\n",
       "3   01/03/2017   38.04       0102  Boston Scientific\n",
       "4   01/03/2017   74.90         --  Boston Scientific"
      ]
     },
     "execution_count": 104,
     "metadata": {},
     "output_type": "execute_result"
    }
   ],
   "source": [
    "invoice_df_copy.rename(columns={'Invoice date':'Invoice Date'}, inplace=True)\n",
    "invoice_df_copy.head()"
   ]
  },
  {
   "cell_type": "markdown",
   "id": "da3c319e",
   "metadata": {},
   "source": [
    "# Task #3: Data Pre-processing"
   ]
  },
  {
   "cell_type": "markdown",
   "id": "3cd251b8",
   "metadata": {},
   "source": [
    "### a) Ensure that the customer names listed in the 'Accounts' column of the Accounts table match those in the 'Account Name' column of the Invoice table."
   ]
  },
  {
   "cell_type": "code",
   "execution_count": 105,
   "id": "291d670f",
   "metadata": {},
   "outputs": [
    {
     "name": "stdout",
     "output_type": "stream",
     "text": [
      "{'Constellation Brands', 'Cardinal Health', 'LKQ Corporation', 'Evergy', 'Expedia Group', 'Genuine Parts Company', 'Royal Caribbean Group', 'Seagate Technology', 'Tapestry, Inc.', 'Henry Schein', 'Dow Inc.', 'Linde plc', 'Medtronic', 'Caesars Entertainment', 'Equinix', 'Philip Morris International', 'IQVIA', 'Vici Properties', 'Darden Restaurants', 'Paychex', 'Tesla, Inc.', 'Public Storage', 'CBRE Group', 'Nasdaq, Inc.', 'Schlumberger', 'Apple Inc.', 'Kinder Morgan', 'American Water Works', 'Masco', 'Airbnb', 'Biogen', 'AES Corporation', 'Kroger', 'American Tower', '3M', 'Illumina', 'Gartner', 'Tractor Supply', 'Abbott', 'Ventas', 'Verizon', 'Aon', 'Steris', 'Host Hotels & Resorts', 'U.S. Bank', 'Federal Realty', 'Broadcom Inc.', 'Howmet Aerospace', 'Kimco Realty', 'Mondelez International', 'Fidelity National Information Services', 'International Paper', 'Marsh McLennan', 'LyondellBasell', 'Pfizer', 'Tyler Technologies', 'American Electric Power', 'American Airlines Group', 'Nucor', 'Qualcomm', 'Baker Hughes', 'Goldman Sachs', 'Robert Half', 'Vertex Pharmaceuticals', 'Alliant Energy', 'GE HealthCare', 'W. W. Grainger', 'Align Technology', 'Amcor', 'Boston Scientific', 'Hasbro', 'Freeport-McMoRan', 'Fastenal', 'Etsy', 'Republic Services', 'Molson Coors Beverage Company', 'Agilent Technologies', 'Adobe Inc.', 'CME Group', 'Fortinet', 'Pentair', 'Best Buy', 'DaVita Inc.', 'CMS Energy', 'Broadridge Financial Solutions', 'Corteva', 'Ameren', \"Domino's\", 'Mettler Toledo', 'PPG Industries', 'UDR, Inc.', 'Waste Management', 'Ball Corporation', 'Vulcan Materials Company', 'Ameriprise Financial', 'Western Digital', 'Pinnacle West', 'Molina Healthcare', 'Regency Centers', 'NetApp', 'CDW', 'EPAM Systems', 'Visa Inc.', 'CH Robinson', 'Arthur J. Gallagher & Co.', 'Microsoft', 'Willis Towers Watson', 'Church & Dwight', 'SBA Communications', 'Otis Worldwide', 'AbbVie', 'Garmin', 'Kenvue', 'Yum! Brands', 'Dover Corporation', 'Welltower', 'Campbell Soup Company', 'Assurant', 'Dentsply Sirona', 'CoStar Group', 'Cincinnati Financial', 'TransDigm Group', 'Allstate', 'Trane Technologies', 'Allegion', 'DTE Energy', 'Valero Energy', 'Ralph Lauren Corporation', 'Jacobs Solutions', 'WestRock', 'Boeing', 'Newmont', 'Intercontinental Exchange', 'Boston Properties', 'Amgen', 'Cummins', 'Citizens Financial Group', 'Bank of America', 'Tyson Foods', 'Synchrony Financial', 'Fortive', 'Wabtec', 'Catalent', 'Norfolk Southern Railway', 'Citigroup', 'Kraft Heinz', 'Netflix', 'Digital Realty', 'Mastercard', 'Zimmer Biomet', 'Monolithic Power Systems', 'Packaging Corporation of America', 'Baxter International', 'Brown & Brown', 'Charter Communications', 'Xcel Energy', 'Steel Dynamics', 'Starbucks', 'Teradyne', 'Verisk', 'Mohawk Industries', 'Merck & Co.', 'EOG Resources', 'Equifax', 'Teleflex', 'Simon Property Group', 'Raymond James', 'Old Dominion', 'Amazon', 'Ingersoll Rand', 'Johnson Controls', 'Healthpeak', 'Micron Technology'}\n",
      "173\n"
     ]
    }
   ],
   "source": [
    "#Here the Accounts table modified column is being matched with the column name of the Account Name in invoice Table\n",
    "matching_customers = set(account_df_copy['Account Name']).intersection(set(invoice_df_copy['Account Name']))\n",
    "print(matching_customers)\n",
    "print(len(matching_customers))"
   ]
  },
  {
   "cell_type": "markdown",
   "id": "35ba62ad",
   "metadata": {},
   "source": [
    "### b) The project team found discrepancies where some customer names on the Invoice table don’t exist in the Accounts table. M&F Company provided supplementary information to resolve the mismatch in the datasets, which is summarized in the table below. Add the information to the Accounts table."
   ]
  },
  {
   "cell_type": "code",
   "execution_count": 106,
   "id": "928ae48c",
   "metadata": {},
   "outputs": [],
   "source": [
    "added_supplementary_info = {\n",
    "    'Account Name': ['Blackstone', 'IBM', 'Booking Holdings', 'Arch Capital Group', 'NVR, Inc.', \n",
    "                     'BlackRock', 'Iron Mountain', 'Eli Lilly and Company', 'Coca-Cola Company (The)', \n",
    "                     'Progressive Corporation', 'Everest Re', 'Kellanova', 'Alphabet Inc. (Class A)', \n",
    "                     'News Corp (Class A)'],\n",
    "    'Billing Address': ['New York City, New York', 'Armonk, New York', 'Norwalk, Connecticut', \n",
    "                        'Hamilton, Bermuda', 'Reston, Virginia', 'New York City, New York', \n",
    "                        'Boston, Massachusetts', 'Indianapolis, Indiana', 'Atlanta, Georgia', \n",
    "                        'Mayfield Village, Ohio', 'Hamilton, Bermuda', 'Chicago, Illinois', \n",
    "                        'Mountain View, California', 'New York City, New York']\n",
    "}\n",
    "\n",
    "account_df_2 = pd.DataFrame(added_supplementary_info)\n",
    "\n",
    "account_df_copy = pd.concat([account_df_copy, account_df_2], ignore_index=True)"
   ]
  },
  {
   "cell_type": "markdown",
   "id": "b5a40b3b",
   "metadata": {},
   "source": [
    "### c) Ensure that all customer names listed on the Invoice table are available in the Accounts table."
   ]
  },
  {
   "cell_type": "code",
   "execution_count": 110,
   "id": "07c3a0bc",
   "metadata": {},
   "outputs": [
    {
     "name": "stdout",
     "output_type": "stream",
     "text": [
      "After all the customer names of Invoice table are added to account table:\n",
      "<class 'pandas.core.frame.DataFrame'>\n",
      "RangeIndex: 196 entries, 0 to 195\n",
      "Data columns (total 2 columns):\n",
      " #   Column           Non-Null Count  Dtype \n",
      "---  ------           --------------  ----- \n",
      " 0   Account Name     196 non-null    object\n",
      " 1   Billing Address  196 non-null    object\n",
      "dtypes: object(2)\n",
      "memory usage: 3.2+ KB\n",
      "None\n",
      "Description Related to Account Table: \n",
      "                            Account Name          Billing Address\n",
      "count                                196                      196\n",
      "unique                               196                      125\n",
      "top     Packaging Corporation of America  New York City, New York\n",
      "freq                                   1                       15\n"
     ]
    }
   ],
   "source": [
    "print(\"After all the customer names of Invoice table are added to account table:\")\n",
    "print(account_df_copy.info())\n",
    "print(\"Description Related to Account Table: \")\n",
    "print(account_df_copy.describe())"
   ]
  },
  {
   "cell_type": "code",
   "execution_count": 111,
   "id": "a4886062",
   "metadata": {},
   "outputs": [
    {
     "data": {
      "text/html": [
       "<div>\n",
       "<style scoped>\n",
       "    .dataframe tbody tr th:only-of-type {\n",
       "        vertical-align: middle;\n",
       "    }\n",
       "\n",
       "    .dataframe tbody tr th {\n",
       "        vertical-align: top;\n",
       "    }\n",
       "\n",
       "    .dataframe thead th {\n",
       "        text-align: right;\n",
       "    }\n",
       "</style>\n",
       "<table border=\"1\" class=\"dataframe\">\n",
       "  <thead>\n",
       "    <tr style=\"text-align: right;\">\n",
       "      <th></th>\n",
       "      <th>Account Name</th>\n",
       "      <th>Billing Address</th>\n",
       "    </tr>\n",
       "  </thead>\n",
       "  <tbody>\n",
       "    <tr>\n",
       "      <th>0</th>\n",
       "      <td>Packaging Corporation of America</td>\n",
       "      <td>Lake Forest, Illinois</td>\n",
       "    </tr>\n",
       "    <tr>\n",
       "      <th>1</th>\n",
       "      <td>American Electric Power</td>\n",
       "      <td>Columbus, Ohio</td>\n",
       "    </tr>\n",
       "    <tr>\n",
       "      <th>2</th>\n",
       "      <td>Citizens Financial Group</td>\n",
       "      <td>Providence, Rhode Island</td>\n",
       "    </tr>\n",
       "    <tr>\n",
       "      <th>3</th>\n",
       "      <td>Dover Corporation</td>\n",
       "      <td>Downers Grove, Illinois</td>\n",
       "    </tr>\n",
       "    <tr>\n",
       "      <th>4</th>\n",
       "      <td>Cincinnati Financial</td>\n",
       "      <td>Fairfield, Ohio</td>\n",
       "    </tr>\n",
       "  </tbody>\n",
       "</table>\n",
       "</div>"
      ],
      "text/plain": [
       "                       Account Name           Billing Address\n",
       "0  Packaging Corporation of America     Lake Forest, Illinois\n",
       "1           American Electric Power            Columbus, Ohio\n",
       "2          Citizens Financial Group  Providence, Rhode Island\n",
       "3                 Dover Corporation   Downers Grove, Illinois\n",
       "4              Cincinnati Financial           Fairfield, Ohio"
      ]
     },
     "execution_count": 111,
     "metadata": {},
     "output_type": "execute_result"
    }
   ],
   "source": [
    "account_df_copy.head()"
   ]
  },
  {
   "cell_type": "markdown",
   "id": "39a91d0c",
   "metadata": {},
   "source": [
    "### d) The project team also found different customer names in two data tables but could be the same customers. M&F Company indicated that the customers listed below are the same and should be treated together. Properly update the data table(s)."
   ]
  },
  {
   "cell_type": "code",
   "execution_count": 120,
   "id": "07091cbb",
   "metadata": {},
   "outputs": [],
   "source": [
    "updated_customer_names = {\n",
    "    \"FedEx\":\"Federal Express\",\n",
    "    \"ConocoPhillips\":\"Conoco Phillips\",\n",
    "    \"Builders FirstSource\":\"Builder's First Source\",\n",
    "    \"T-Mobile US\":\"T-Mobile\",\n",
    "    \"Home Depot (The)\":\"Home Depot\",\n",
    "    \"Brown–Forman\":\"Brown & Forman\",\n",
    "    \"Xylem Inc.\":\"Xylem\"\n",
    "}\n",
    "\n",
    "invoice_df_copy['Account Name'] = invoice_df_copy['Account Name'].replace(updated_customer_names)"
   ]
  },
  {
   "cell_type": "code",
   "execution_count": 121,
   "id": "b89255ba",
   "metadata": {},
   "outputs": [],
   "source": [
    "invoice_df_copy.to_csv('Invoice_Ledger_Updated.csv', index=False)"
   ]
  },
  {
   "cell_type": "markdown",
   "id": "04f56bb2",
   "metadata": {},
   "source": [
    "### e) Check any duplicated account names that exist in the Accounts table. There should be no duplicate customer names on the Accounts table."
   ]
  },
  {
   "cell_type": "code",
   "execution_count": 122,
   "id": "38e6809d",
   "metadata": {},
   "outputs": [
    {
     "name": "stdout",
     "output_type": "stream",
     "text": [
      "<class 'pandas.core.frame.DataFrame'>\n",
      "RangeIndex: 196 entries, 0 to 195\n",
      "Data columns (total 2 columns):\n",
      " #   Column           Non-Null Count  Dtype \n",
      "---  ------           --------------  ----- \n",
      " 0   Account Name     196 non-null    object\n",
      " 1   Billing Address  196 non-null    object\n",
      "dtypes: object(2)\n",
      "memory usage: 3.2+ KB\n",
      "None\n"
     ]
    }
   ],
   "source": [
    "print(account_df_copy.info())"
   ]
  },
  {
   "cell_type": "code",
   "execution_count": 123,
   "id": "e8e6e2e4",
   "metadata": {},
   "outputs": [
    {
     "name": "stdout",
     "output_type": "stream",
     "text": [
      "<class 'pandas.core.frame.DataFrame'>\n",
      "Int64Index: 196 entries, 0 to 195\n",
      "Data columns (total 2 columns):\n",
      " #   Column           Non-Null Count  Dtype \n",
      "---  ------           --------------  ----- \n",
      " 0   Account Name     196 non-null    object\n",
      " 1   Billing Address  196 non-null    object\n",
      "dtypes: object(2)\n",
      "memory usage: 4.6+ KB\n",
      "None\n"
     ]
    }
   ],
   "source": [
    "account_df_copy = account_df_copy.drop_duplicates(['Account Name'])\n",
    "\n",
    "print(account_df_copy.info())"
   ]
  },
  {
   "cell_type": "markdown",
   "id": "ed762f33",
   "metadata": {},
   "source": [
    "#### Note: From the above we can see no rows has been droped and we can say that there are no duplicate values"
   ]
  },
  {
   "cell_type": "markdown",
   "id": "05ca8434",
   "metadata": {},
   "source": [
    "### f) The project team found potential duplicate values in the Invoice table specifically where the Product ID is marked as \"--\". M&F Company clarified those entries with \"--\" as the Product ID represent subtotal values, followed by the total invoice amount. M&F Company instructed to remove all rows containing \"--\" as the Product ID from the Invoice table."
   ]
  },
  {
   "cell_type": "code",
   "execution_count": 126,
   "id": "b59574ad",
   "metadata": {},
   "outputs": [
    {
     "name": "stdout",
     "output_type": "stream",
     "text": [
      "<class 'pandas.core.frame.DataFrame'>\n",
      "RangeIndex: 85333 entries, 0 to 85332\n",
      "Data columns (total 4 columns):\n",
      " #   Column        Non-Null Count  Dtype  \n",
      "---  ------        --------------  -----  \n",
      " 0   Invoice Date  85333 non-null  object \n",
      " 1   Amount        85333 non-null  float64\n",
      " 2   Product ID    85333 non-null  object \n",
      " 3   Account Name  85333 non-null  object \n",
      "dtypes: float64(1), object(3)\n",
      "memory usage: 2.6+ MB\n",
      "None\n",
      "Number of Rows that contain the '--' value in the Invoice Table:\n",
      "      Invoice Date  Amount Product ID          Account Name\n",
      "0       01/03/2017   56.75         --      Johnson Controls\n",
      "2       01/03/2017   38.04         --     Boston Scientific\n",
      "4       01/03/2017   74.90         --     Boston Scientific\n",
      "6       01/03/2017   76.84         --     Boston Scientific\n",
      "8       01/03/2017    5.97         --             Linde plc\n",
      "...            ...     ...        ...                   ...\n",
      "85326   09/29/2023    0.00         --  Willis Towers Watson\n",
      "85327   09/29/2023  418.90         --  Willis Towers Watson\n",
      "85329   09/29/2023    0.00         --  Willis Towers Watson\n",
      "85330   09/29/2023  320.00         --      Jacobs Solutions\n",
      "85332   09/29/2023    0.00         --      Jacobs Solutions\n",
      "\n",
      "[23902 rows x 4 columns]\n"
     ]
    }
   ],
   "source": [
    "print(invoice_df_copy.info())\n",
    "\n",
    "print(\"Number of Rows that contain the '--' value in the Invoice Table:\")\n",
    "print(invoice_df_copy[invoice_df_copy['Product ID']=='--'])"
   ]
  },
  {
   "cell_type": "code",
   "execution_count": 129,
   "id": "fd1b3d6c",
   "metadata": {},
   "outputs": [],
   "source": [
    "#Deleting the rows with '--' product value\n",
    "invoice_df_copy = invoice_df_copy.drop(invoice_df_copy[invoice_df_copy['Product ID']=='--'].index)"
   ]
  },
  {
   "cell_type": "code",
   "execution_count": 132,
   "id": "a9c21727",
   "metadata": {},
   "outputs": [
    {
     "name": "stdout",
     "output_type": "stream",
     "text": [
      "<class 'pandas.core.frame.DataFrame'>\n",
      "Int64Index: 61431 entries, 1 to 85331\n",
      "Data columns (total 4 columns):\n",
      " #   Column        Non-Null Count  Dtype  \n",
      "---  ------        --------------  -----  \n",
      " 0   Invoice Date  61431 non-null  object \n",
      " 1   Amount        61431 non-null  float64\n",
      " 2   Product ID    61431 non-null  object \n",
      " 3   Account Name  61431 non-null  object \n",
      "dtypes: float64(1), object(3)\n",
      "memory usage: 2.3+ MB\n"
     ]
    }
   ],
   "source": [
    "invoice_df_copy.info()"
   ]
  },
  {
   "cell_type": "markdown",
   "id": "3c87422b",
   "metadata": {},
   "source": [
    "### g) Examine the data type of columns in both tables. Properly change the data type of columns if needed. For example, numeric types for number columns. Python provides datetime object, which contains date and time information along with various supporting functions. "
   ]
  },
  {
   "cell_type": "code",
   "execution_count": 134,
   "id": "542b3bf7",
   "metadata": {},
   "outputs": [
    {
     "name": "stdout",
     "output_type": "stream",
     "text": [
      "Data Types in the Account Ledger Table:\n",
      "Account Name       object\n",
      "Billing Address    object\n",
      "dtype: object\n",
      "Data Types in the Invoice Ledger Table:\n",
      "Invoice Date     object\n",
      "Amount          float64\n",
      "Product ID       object\n",
      "Account Name     object\n",
      "dtype: object\n"
     ]
    }
   ],
   "source": [
    "print(\"Data Types in the Account Ledger Table:\")\n",
    "print(account_df_copy.dtypes)\n",
    "\n",
    "print(\"Data Types in the Invoice Ledger Table:\")\n",
    "print(invoice_df_copy.dtypes)"
   ]
  },
  {
   "cell_type": "code",
   "execution_count": 135,
   "id": "4390573e",
   "metadata": {},
   "outputs": [
    {
     "name": "stdout",
     "output_type": "stream",
     "text": [
      "Invoice Table Datatypes After changing the Datatypes:\n",
      "Invoice Date    datetime64[ns]\n",
      "Amount                 float64\n",
      "Product ID              object\n",
      "Account Name            object\n",
      "dtype: object\n"
     ]
    }
   ],
   "source": [
    "#The Data type of the Invoice Date to be changed from object to DateTime Datatype\n",
    "invoice_df_copy['Invoice Date'] = pd.to_datetime(invoice_df_copy['Invoice Date'])\n",
    "\n",
    "print(\"Invoice Table Datatypes After changing the Datatypes:\")\n",
    "print(invoice_df_copy.dtypes)"
   ]
  },
  {
   "cell_type": "markdown",
   "id": "7f620f2d",
   "metadata": {},
   "source": [
    "### h) Identify any missing and invalid values in the ‘Amount line’ column. M&F Company specified that the ‘Amount line’ values should be positive numbers. Calculate the number of entries containing missing or invalid values. If the total missing or invalid values in the ‘Amount line’ column are less than 2%, M&F Company instructed us to process the data after removing those entries. Otherwise, fill the missing or invalid values with proper imputation values. After this step, no missing or invalid values should be in the Invoice table"
   ]
  },
  {
   "cell_type": "code",
   "execution_count": 138,
   "id": "bde03ed5",
   "metadata": {},
   "outputs": [
    {
     "name": "stdout",
     "output_type": "stream",
     "text": [
      "Invalid Values or Null Values in Amount Line Column:\n",
      "      Invoice Date  Amount Product ID          Account Name\n",
      "651     2017-01-30     0.0       0012         Broadcom Inc.\n",
      "813     2017-02-06     0.0       0203  Willis Towers Watson\n",
      "860     2017-02-07     0.0       0012            CBRE Group\n",
      "1157    2017-02-17     0.0       0012                Evergy\n",
      "1564    2017-03-06     0.0       0012         Expedia Group\n",
      "...            ...     ...        ...                   ...\n",
      "82561   2023-06-28     0.0       0206  Willis Towers Watson\n",
      "82562   2023-06-28     0.0       0012  Willis Towers Watson\n",
      "82563   2023-06-28     0.0       0203  Willis Towers Watson\n",
      "82564   2023-06-28     0.0       0012  Willis Towers Watson\n",
      "82565   2023-06-28     0.0       0203  Willis Towers Watson\n",
      "\n",
      "[670 rows x 4 columns]\n",
      "Percentage of Missing Values or Invalid Values:\n",
      "1.0906545555175724\n"
     ]
    }
   ],
   "source": [
    "invalid_val = invoice_df_copy[(invoice_df_copy['Amount'].isnull()) | (invoice_df_copy['Amount'] <= 0)]\n",
    "print(\"Invalid Values or Null Values in Amount Line Column:\")\n",
    "print(invalid_val)\n",
    "\n",
    "#Percentage of Invalid Values\n",
    "percent_invalid_val = (len(invalid_val) / len(invoice_df_copy))*100\n",
    "print(\"Percentage of Missing Values or Invalid Values:\")\n",
    "print(percent_invalid_val)"
   ]
  },
  {
   "cell_type": "code",
   "execution_count": 139,
   "id": "dc088cc6",
   "metadata": {},
   "outputs": [
    {
     "name": "stdout",
     "output_type": "stream",
     "text": [
      "<class 'pandas.core.frame.DataFrame'>\n",
      "Int64Index: 61431 entries, 1 to 85331\n",
      "Data columns (total 4 columns):\n",
      " #   Column        Non-Null Count  Dtype         \n",
      "---  ------        --------------  -----         \n",
      " 0   Invoice Date  61431 non-null  datetime64[ns]\n",
      " 1   Amount        61431 non-null  float64       \n",
      " 2   Product ID    61431 non-null  object        \n",
      " 3   Account Name  61431 non-null  object        \n",
      "dtypes: datetime64[ns](1), float64(1), object(2)\n",
      "memory usage: 2.3+ MB\n"
     ]
    }
   ],
   "source": [
    "invoice_df_copy.info()"
   ]
  },
  {
   "cell_type": "code",
   "execution_count": 141,
   "id": "b7c94815",
   "metadata": {},
   "outputs": [],
   "source": [
    "#From the above we can see that Percentage is less than 2 so I am deleting those rows with invalid values\n",
    "invoice_df_copy = invoice_df_copy.dropna(subset=['Amount'])\n",
    "invoice_df_copy = invoice_df_copy[invoice_df_copy['Amount']> 0]"
   ]
  },
  {
   "cell_type": "code",
   "execution_count": 142,
   "id": "210239b1",
   "metadata": {},
   "outputs": [
    {
     "name": "stdout",
     "output_type": "stream",
     "text": [
      "<class 'pandas.core.frame.DataFrame'>\n",
      "Int64Index: 60761 entries, 1 to 85331\n",
      "Data columns (total 4 columns):\n",
      " #   Column        Non-Null Count  Dtype         \n",
      "---  ------        --------------  -----         \n",
      " 0   Invoice Date  60761 non-null  datetime64[ns]\n",
      " 1   Amount        60761 non-null  float64       \n",
      " 2   Product ID    60761 non-null  object        \n",
      " 3   Account Name  60761 non-null  object        \n",
      "dtypes: datetime64[ns](1), float64(1), object(2)\n",
      "memory usage: 2.3+ MB\n"
     ]
    }
   ],
   "source": [
    "invoice_df_copy.info()"
   ]
  },
  {
   "cell_type": "code",
   "execution_count": 143,
   "id": "fa8d2dc3",
   "metadata": {},
   "outputs": [],
   "source": [
    "account_df_copy.to_csv('Account_Ledger_Final.csv', index=False)\n",
    "invoice_df_copy.to_csv('Invoice_Ledger_Final.csv', index=False)"
   ]
  },
  {
   "cell_type": "code",
   "execution_count": 144,
   "id": "77228a07",
   "metadata": {},
   "outputs": [],
   "source": [
    "account_df_final = account_df_copy.copy()\n",
    "invoice_df_final = invoice_df_copy.copy()"
   ]
  },
  {
   "cell_type": "markdown",
   "id": "db849ec8",
   "metadata": {},
   "source": [
    "# Task #4: Data Integration"
   ]
  },
  {
   "cell_type": "markdown",
   "id": "30019db8",
   "metadata": {},
   "source": [
    "### a) Merge the Accounts and Invoice tables using the ‘Account Name’ key. Hereafter, the merged file is referred to as the Master table."
   ]
  },
  {
   "cell_type": "code",
   "execution_count": 146,
   "id": "8b59214a",
   "metadata": {},
   "outputs": [
    {
     "name": "stdout",
     "output_type": "stream",
     "text": [
      "The Master Table after Merging the two tables is:\n",
      "                           Account Name          Billing Address Invoice Date  \\\n",
      "0      Packaging Corporation of America    Lake Forest, Illinois   2023-07-21   \n",
      "1      Packaging Corporation of America    Lake Forest, Illinois   2023-07-21   \n",
      "2      Packaging Corporation of America    Lake Forest, Illinois   2023-08-29   \n",
      "3               American Electric Power           Columbus, Ohio   2022-05-12   \n",
      "4               American Electric Power           Columbus, Ohio   2022-05-12   \n",
      "...                                 ...                      ...          ...   \n",
      "60756               News Corp (Class A)  New York City, New York   2019-07-11   \n",
      "60757               News Corp (Class A)  New York City, New York   2019-07-11   \n",
      "60758               News Corp (Class A)  New York City, New York   2019-07-11   \n",
      "60759               News Corp (Class A)  New York City, New York   2019-07-11   \n",
      "60760               News Corp (Class A)  New York City, New York   2019-07-11   \n",
      "\n",
      "        Amount Product ID  \n",
      "0         4.77       0106  \n",
      "1        14.31       0106  \n",
      "2        17.19       0106  \n",
      "3        54.00       0101  \n",
      "4        21.60       0203  \n",
      "...        ...        ...  \n",
      "60756  1200.00       0206  \n",
      "60757  4800.00       0012  \n",
      "60758   252.00       0203  \n",
      "60759   834.00       0206  \n",
      "60760   630.00       0012  \n",
      "\n",
      "[60761 rows x 5 columns]\n"
     ]
    }
   ],
   "source": [
    "master_table = pd.merge(account_df_final, invoice_df_final, how=\"inner\", on=\"Account Name\")\n",
    "\n",
    "print(\"The Master Table after Merging the two tables is:\")\n",
    "print(master_table)"
   ]
  },
  {
   "cell_type": "markdown",
   "id": "85e60c62",
   "metadata": {},
   "source": [
    "### b) After merging two tables, check for any merge conflicts (no match). Properly handle merge conflicts if there are. "
   ]
  },
  {
   "cell_type": "code",
   "execution_count": 147,
   "id": "69c5297c",
   "metadata": {},
   "outputs": [
    {
     "name": "stdout",
     "output_type": "stream",
     "text": [
      "Below are the Merge conflicts\n",
      "Empty DataFrame\n",
      "Columns: [Account Name, Billing Address, Invoice Date, Amount, Product ID]\n",
      "Index: []\n"
     ]
    }
   ],
   "source": [
    "conflicts = master_table[master_table['Account Name'].isnull()]\n",
    "print(\"Below are the Merge conflicts\")\n",
    "print(conflicts)"
   ]
  },
  {
   "cell_type": "markdown",
   "id": "365ac06f",
   "metadata": {},
   "source": [
    "#### Note: From the above we can say that there are no merge conflicts in the master table after merging"
   ]
  },
  {
   "cell_type": "markdown",
   "id": "b7260d41",
   "metadata": {},
   "source": [
    "# Task #5: Assigning Product Categories to the Products"
   ]
  },
  {
   "cell_type": "markdown",
   "id": "5e9eba05",
   "metadata": {},
   "source": [
    "### M&F Company wanted to analyze sales revenue pertaining to two major product categories.For the category-based data analysis, assign an appropriate category to each product in the Master table \n",
    "\n",
    "\n",
    "### a) Using “Table 1. Mapping Table for Product ID vs. Category,” add a column named ‘Category’ to the Master table that specifies the category of each product."
   ]
  },
  {
   "cell_type": "code",
   "execution_count": 148,
   "id": "5e860b49",
   "metadata": {},
   "outputs": [],
   "source": [
    "map_product_category = {\n",
    "    'Product ID': ['0011', '0012', '0013', '0014', '0015', '0016', '0101', '0102', '0103', '0104', '0105', \n",
    "                   '0201', '0202', '0203', '0204', '0205', '0206', '0207', '0208', '0209', '0301', '9999', '1000'],\n",
    "    'Category': ['Manufacturing', 'Manufacturing', 'Manufacturing', 'Manufacturing', 'Manufacturing', 'Manufacturing', \n",
    "                 'Tooling', 'Tooling', 'Tooling', 'Tooling', 'Tooling', 'Preparation', 'Preparation', 'Preparation', \n",
    "                 'Preparation', 'Preparation', 'Preparation', 'Preparation', 'Preparation', 'Preparation', 'Services', \n",
    "                 'Custom Product SKU', 'Other']\n",
    "}\n"
   ]
  },
  {
   "cell_type": "markdown",
   "id": "cbccc973",
   "metadata": {},
   "source": [
    "### b) This task can be accomplished by constructing a DataFrame based on Table 1 and subsequently merging it with the Master table using the 'Product ID' as the key. "
   ]
  },
  {
   "cell_type": "code",
   "execution_count": 149,
   "id": "341937fc",
   "metadata": {},
   "outputs": [],
   "source": [
    "product_category = pd.DataFrame(map_product_category)\n",
    "\n",
    "master_table = pd.merge(master_table, product_category, how='left', on='Product ID')"
   ]
  },
  {
   "cell_type": "markdown",
   "id": "302b0f40",
   "metadata": {},
   "source": [
    "### c) After this operation, the ‘Category’ column of the Master table should be filled with the proper category values."
   ]
  },
  {
   "cell_type": "code",
   "execution_count": 150,
   "id": "2d57abf5",
   "metadata": {},
   "outputs": [
    {
     "name": "stdout",
     "output_type": "stream",
     "text": [
      "Master Table after the adding the category column\n",
      "                           Account Name          Billing Address Invoice Date  \\\n",
      "0      Packaging Corporation of America    Lake Forest, Illinois   2023-07-21   \n",
      "1      Packaging Corporation of America    Lake Forest, Illinois   2023-07-21   \n",
      "2      Packaging Corporation of America    Lake Forest, Illinois   2023-08-29   \n",
      "3               American Electric Power           Columbus, Ohio   2022-05-12   \n",
      "4               American Electric Power           Columbus, Ohio   2022-05-12   \n",
      "...                                 ...                      ...          ...   \n",
      "60756               News Corp (Class A)  New York City, New York   2019-07-11   \n",
      "60757               News Corp (Class A)  New York City, New York   2019-07-11   \n",
      "60758               News Corp (Class A)  New York City, New York   2019-07-11   \n",
      "60759               News Corp (Class A)  New York City, New York   2019-07-11   \n",
      "60760               News Corp (Class A)  New York City, New York   2019-07-11   \n",
      "\n",
      "        Amount Product ID       Category  \n",
      "0         4.77       0106            NaN  \n",
      "1        14.31       0106            NaN  \n",
      "2        17.19       0106            NaN  \n",
      "3        54.00       0101        Tooling  \n",
      "4        21.60       0203    Preparation  \n",
      "...        ...        ...            ...  \n",
      "60756  1200.00       0206    Preparation  \n",
      "60757  4800.00       0012  Manufacturing  \n",
      "60758   252.00       0203    Preparation  \n",
      "60759   834.00       0206    Preparation  \n",
      "60760   630.00       0012  Manufacturing  \n",
      "\n",
      "[60761 rows x 6 columns]\n"
     ]
    }
   ],
   "source": [
    "print(\"Master Table after the adding the category column\")\n",
    "print(master_table)"
   ]
  },
  {
   "cell_type": "markdown",
   "id": "820aa963",
   "metadata": {},
   "source": [
    "# Task #6: Data Pre-processing"
   ]
  },
  {
   "cell_type": "markdown",
   "id": "a140c2a7",
   "metadata": {},
   "source": [
    "### a) M&F Company informed us that they are only interested in sales revenues associated with 'Tooling,' 'Manufacturing,' and 'Custom Product SKU'. Remove entries from the Master table that are unrelated to these categories."
   ]
  },
  {
   "cell_type": "code",
   "execution_count": 152,
   "id": "65bede7d",
   "metadata": {},
   "outputs": [
    {
     "name": "stdout",
     "output_type": "stream",
     "text": [
      "Master Table after removing unrelated entries:\n",
      "                  Account Name            Billing Address Invoice Date  \\\n",
      "3      American Electric Power             Columbus, Ohio   2022-05-12   \n",
      "5      American Electric Power             Columbus, Ohio   2022-05-12   \n",
      "7      American Electric Power             Columbus, Ohio   2022-05-26   \n",
      "9      American Electric Power             Columbus, Ohio   2022-06-03   \n",
      "11     American Electric Power             Columbus, Ohio   2022-06-03   \n",
      "...                        ...                        ...          ...   \n",
      "60748               Everest Re          Hamilton, Bermuda   2022-11-10   \n",
      "60750                Kellanova          Chicago, Illinois   2023-02-17   \n",
      "60752  Alphabet Inc. (Class A)  Mountain View, California   2018-11-01   \n",
      "60757      News Corp (Class A)    New York City, New York   2019-07-11   \n",
      "60760      News Corp (Class A)    New York City, New York   2019-07-11   \n",
      "\n",
      "        Amount Product ID       Category  \n",
      "3        54.00       0101        Tooling  \n",
      "5        51.00       0101        Tooling  \n",
      "7       238.40       0016  Manufacturing  \n",
      "9        73.10       0101        Tooling  \n",
      "11      105.40       0101        Tooling  \n",
      "...        ...        ...            ...  \n",
      "60748   432.00       0101        Tooling  \n",
      "60750  2628.00       0012  Manufacturing  \n",
      "60752    22.75       0016  Manufacturing  \n",
      "60757  4800.00       0012  Manufacturing  \n",
      "60760   630.00       0012  Manufacturing  \n",
      "\n",
      "[44151 rows x 6 columns]\n"
     ]
    }
   ],
   "source": [
    "required_categories = ['Tooling', 'Manufacturing', 'Custom Product SKU']\n",
    "\n",
    "master_table_related = master_table[master_table['Category'].isin(required_categories)]\n",
    "\n",
    "print(\"Master Table after removing unrelated entries:\")\n",
    "print(master_table_related)\n"
   ]
  },
  {
   "cell_type": "markdown",
   "id": "720a7fa9",
   "metadata": {},
   "source": [
    "### b) Additionally, products with Product ID: 9999 or Category: Custom Product SKU should be reassigned to a category based on the company that purchased the product. “Table 2: Mapping Table for Product ID, Account Name, and Category” provides the information assigning product categories to products, which are initially classified as “Category: Custom Product SKU”. Using Table 2, replace the category “Custom Product SKU” with the appropriate category on the Master table."
   ]
  },
  {
   "cell_type": "code",
   "execution_count": 168,
   "id": "0719de19",
   "metadata": {},
   "outputs": [],
   "source": [
    "sku_mapping = {\n",
    "    \n",
    "    'Account Name': ['Jacobs Solutions', 'W. W. Grainger', 'Public Storage', 'Fortinet', \n",
    "                     'DTE Energy', 'TransDigm Group', 'Goldman Sachs', 'Western Digital', \n",
    "                     'Ralph Lauren Corporation', 'Qualcomm'],\n",
    "    \n",
    "    'Category': ['Manufacturing', 'Manufacturing', 'Manufacturing', 'Manufacturing', \n",
    "                 'Tooling', 'Tooling', 'Tooling', 'Tooling', 'Tooling', 'Tooling']\n",
    "}\n",
    "\n",
    "sku_mapping_df = pd.DataFrame(sku_mapping)\n",
    "\n",
    "for i, row in master_table_related.iterrows():\n",
    "    if row['Category'] == 'Custom Product SKU':\n",
    "        account_name = row['Account Name']\n",
    "        if account_name in sku_mapping_df['Account Name'].values:\n",
    "            updated_category = sku_mapping_df[sku_mapping_df['Account Name'] == account_name]['Category'].iloc[0]\n",
    "            master_table_related.at[i, 'Category'] = updated_category"
   ]
  },
  {
   "cell_type": "markdown",
   "id": "fa2edf9b",
   "metadata": {},
   "source": [
    "### c) Verify that all entries in the Master table are categorized to either 'Tooling' or 'Manufacturing.'"
   ]
  },
  {
   "cell_type": "code",
   "execution_count": 169,
   "id": "f665a015",
   "metadata": {},
   "outputs": [
    {
     "name": "stdout",
     "output_type": "stream",
     "text": [
      "Category\n",
      "Manufacturing     8847\n",
      "Tooling          35304\n",
      "dtype: int64\n"
     ]
    }
   ],
   "source": [
    "master_table_verfication = master_table_related.groupby('Category')\n",
    "print(master_table_verfication.size())"
   ]
  },
  {
   "cell_type": "markdown",
   "id": "07c2dafc",
   "metadata": {},
   "source": [
    "#### Note: After Verfication all entries in the Master table are categorized to either 'Tooling' or 'Manufacturing.'"
   ]
  },
  {
   "cell_type": "markdown",
   "id": "1e39d199",
   "metadata": {},
   "source": [
    "### d) By using the ‘Invoice date’ column, add ‘Year’, ‘Month’, and ‘Quarter’ columns to the Master table, which show the associated invoicing data. For example, an Invoice date of2023-09-29 will be converted into Year: 2023, Month: 9, and Quarter 3. Refer to the Python datetime object reference."
   ]
  },
  {
   "cell_type": "code",
   "execution_count": 170,
   "id": "a5c4d3e2",
   "metadata": {},
   "outputs": [
    {
     "name": "stdout",
     "output_type": "stream",
     "text": [
      "<class 'pandas.core.frame.DataFrame'>\n",
      "Int64Index: 44151 entries, 3 to 60760\n",
      "Data columns (total 6 columns):\n",
      " #   Column           Non-Null Count  Dtype         \n",
      "---  ------           --------------  -----         \n",
      " 0   Account Name     44151 non-null  object        \n",
      " 1   Billing Address  44151 non-null  object        \n",
      " 2   Invoice Date     44151 non-null  datetime64[ns]\n",
      " 3   Amount           44151 non-null  float64       \n",
      " 4   Product ID       44151 non-null  object        \n",
      " 5   Category         44151 non-null  object        \n",
      "dtypes: datetime64[ns](1), float64(1), object(4)\n",
      "memory usage: 3.4+ MB\n",
      "None\n"
     ]
    }
   ],
   "source": [
    "print(master_table_related.info())"
   ]
  },
  {
   "cell_type": "code",
   "execution_count": 171,
   "id": "ecda19fa",
   "metadata": {},
   "outputs": [
    {
     "name": "stdout",
     "output_type": "stream",
     "text": [
      "Master Table after Adding the Year, Month and Quarter:\n",
      "                  Account Name            Billing Address Invoice Date  \\\n",
      "3      American Electric Power             Columbus, Ohio   2022-05-12   \n",
      "5      American Electric Power             Columbus, Ohio   2022-05-12   \n",
      "7      American Electric Power             Columbus, Ohio   2022-05-26   \n",
      "9      American Electric Power             Columbus, Ohio   2022-06-03   \n",
      "11     American Electric Power             Columbus, Ohio   2022-06-03   \n",
      "...                        ...                        ...          ...   \n",
      "60748               Everest Re          Hamilton, Bermuda   2022-11-10   \n",
      "60750                Kellanova          Chicago, Illinois   2023-02-17   \n",
      "60752  Alphabet Inc. (Class A)  Mountain View, California   2018-11-01   \n",
      "60757      News Corp (Class A)    New York City, New York   2019-07-11   \n",
      "60760      News Corp (Class A)    New York City, New York   2019-07-11   \n",
      "\n",
      "        Amount Product ID       Category  Year  Month  Quarter  \n",
      "3        54.00       0101        Tooling  2022      5        2  \n",
      "5        51.00       0101        Tooling  2022      5        2  \n",
      "7       238.40       0016  Manufacturing  2022      5        2  \n",
      "9        73.10       0101        Tooling  2022      6        2  \n",
      "11      105.40       0101        Tooling  2022      6        2  \n",
      "...        ...        ...            ...   ...    ...      ...  \n",
      "60748   432.00       0101        Tooling  2022     11        4  \n",
      "60750  2628.00       0012  Manufacturing  2023      2        1  \n",
      "60752    22.75       0016  Manufacturing  2018     11        4  \n",
      "60757  4800.00       0012  Manufacturing  2019      7        3  \n",
      "60760   630.00       0012  Manufacturing  2019      7        3  \n",
      "\n",
      "[44151 rows x 9 columns]\n"
     ]
    },
    {
     "name": "stderr",
     "output_type": "stream",
     "text": [
      "C:\\Users\\rahul\\AppData\\Local\\Temp\\ipykernel_11176\\2220940854.py:1: SettingWithCopyWarning: \n",
      "A value is trying to be set on a copy of a slice from a DataFrame.\n",
      "Try using .loc[row_indexer,col_indexer] = value instead\n",
      "\n",
      "See the caveats in the documentation: https://pandas.pydata.org/pandas-docs/stable/user_guide/indexing.html#returning-a-view-versus-a-copy\n",
      "  master_table_related['Year'] = master_table_related['Invoice Date'].dt.year\n",
      "C:\\Users\\rahul\\AppData\\Local\\Temp\\ipykernel_11176\\2220940854.py:2: SettingWithCopyWarning: \n",
      "A value is trying to be set on a copy of a slice from a DataFrame.\n",
      "Try using .loc[row_indexer,col_indexer] = value instead\n",
      "\n",
      "See the caveats in the documentation: https://pandas.pydata.org/pandas-docs/stable/user_guide/indexing.html#returning-a-view-versus-a-copy\n",
      "  master_table_related['Month'] = master_table_related['Invoice Date'].dt.month\n",
      "C:\\Users\\rahul\\AppData\\Local\\Temp\\ipykernel_11176\\2220940854.py:3: SettingWithCopyWarning: \n",
      "A value is trying to be set on a copy of a slice from a DataFrame.\n",
      "Try using .loc[row_indexer,col_indexer] = value instead\n",
      "\n",
      "See the caveats in the documentation: https://pandas.pydata.org/pandas-docs/stable/user_guide/indexing.html#returning-a-view-versus-a-copy\n",
      "  master_table_related['Quarter'] = master_table_related['Invoice Date'].dt.quarter\n"
     ]
    }
   ],
   "source": [
    "master_table_related['Year'] = master_table_related['Invoice Date'].dt.year\n",
    "master_table_related['Month'] = master_table_related['Invoice Date'].dt.month\n",
    "master_table_related['Quarter'] = master_table_related['Invoice Date'].dt.quarter\n",
    "\n",
    "print(\"Master Table after Adding the Year, Month and Quarter:\")\n",
    "print(master_table_related)"
   ]
  },
  {
   "cell_type": "markdown",
   "id": "d8d96266",
   "metadata": {},
   "source": [
    "# Task #8: Save the Master Table"
   ]
  },
  {
   "cell_type": "markdown",
   "id": "93f36586",
   "metadata": {},
   "source": [
    "### a) Review the Master table to ensure that all the data have been properly processed for the following data analytics processes: no missing values, proper data types, etc."
   ]
  },
  {
   "cell_type": "code",
   "execution_count": 172,
   "id": "544d5b3d",
   "metadata": {},
   "outputs": [
    {
     "name": "stdout",
     "output_type": "stream",
     "text": [
      "All the Information about the Master table:\n",
      "<class 'pandas.core.frame.DataFrame'>\n",
      "Int64Index: 44151 entries, 3 to 60760\n",
      "Data columns (total 9 columns):\n",
      " #   Column           Non-Null Count  Dtype         \n",
      "---  ------           --------------  -----         \n",
      " 0   Account Name     44151 non-null  object        \n",
      " 1   Billing Address  44151 non-null  object        \n",
      " 2   Invoice Date     44151 non-null  datetime64[ns]\n",
      " 3   Amount           44151 non-null  float64       \n",
      " 4   Product ID       44151 non-null  object        \n",
      " 5   Category         44151 non-null  object        \n",
      " 6   Year             44151 non-null  int64         \n",
      " 7   Month            44151 non-null  int64         \n",
      " 8   Quarter          44151 non-null  int64         \n",
      "dtypes: datetime64[ns](1), float64(1), int64(3), object(4)\n",
      "memory usage: 4.4+ MB\n",
      "None\n"
     ]
    }
   ],
   "source": [
    "print(\"All the Information about the Master table:\")\n",
    "print(master_table_related.info())"
   ]
  },
  {
   "cell_type": "markdown",
   "id": "b5c6bd0f",
   "metadata": {},
   "source": [
    "### b) Save the Master table to a CSV file."
   ]
  },
  {
   "cell_type": "code",
   "execution_count": 173,
   "id": "5a01e579",
   "metadata": {},
   "outputs": [],
   "source": [
    "master_table_related.to_csv('Master_Table.csv',index=False)"
   ]
  },
  {
   "cell_type": "markdown",
   "id": "9935b3c3",
   "metadata": {},
   "source": [
    "# Task #9: Visualization of the Processed Data for Exploratory Data Analysis"
   ]
  },
  {
   "cell_type": "markdown",
   "id": "4047c502",
   "metadata": {},
   "source": [
    "### Using the Master table, generate graphs presenting the following information. Briefly describe your findings for each graph.\n",
    "\n",
    "\n",
    "### a) Sales revenue changes over time presented either monthly or quarterly."
   ]
  },
  {
   "cell_type": "code",
   "execution_count": 174,
   "id": "d844f876",
   "metadata": {},
   "outputs": [],
   "source": [
    "import matplotlib.pyplot as plt"
   ]
  },
  {
   "cell_type": "code",
   "execution_count": 182,
   "id": "4b88f221",
   "metadata": {},
   "outputs": [
    {
     "data": {
      "image/png": "[encoded data removed]",
      "text/plain": [
       "<Figure size 640x480 with 1 Axes>"
      ]
     },
     "metadata": {},
     "output_type": "display_data"
    }
   ],
   "source": [
    "master_table_related.groupby(['Year', 'Quarter'])['Amount'].sum().plot(marker='o')\n",
    "plt.title('Sales Revenue Changes Over Time (Quarterly)')\n",
    "plt.xlabel('Year and Quarter')\n",
    "plt.ylabel('Sales Revenue')\n",
    "plt.grid(True)\n",
    "plt.xticks(rotation=90)\n",
    "plt.tight_layout()\n",
    "plt.show()\n"
   ]
  },
  {
   "cell_type": "markdown",
   "id": "41e7457c",
   "metadata": {},
   "source": [
    "### Findings for the Above Graph:\n",
    "### From the Above graph we can check the Sales Revenue, for Year and Quater, where Sales Revenue has the high after 2018 and before the start of 2019 and after 2022 before 2023. Sales Revenue is so low during the two perios, after 2019 and before 2020 which is in the middle and completely down at the end of 2023. It started at High and ended at low."
   ]
  },
  {
   "cell_type": "markdown",
   "id": "79685cdb",
   "metadata": {},
   "source": [
    "### b) Accumulated sales revenue per quarter for the entire time period."
   ]
  },
  {
   "cell_type": "code",
   "execution_count": 183,
   "id": "bdd4bb9c",
   "metadata": {},
   "outputs": [
    {
     "data": {
      "image/png": "[encoded data removed]",
      "text/plain": [
       "<Figure size 640x480 with 1 Axes>"
      ]
     },
     "metadata": {},
     "output_type": "display_data"
    }
   ],
   "source": [
    "master_table_related.groupby(['Year', 'Quarter'])['Amount'].sum().cumsum().plot(marker='o')\n",
    "plt.title('Accumulated Sales Revenue Per Quarter For Entire Time Period')\n",
    "plt.xlabel('Year - Quarter')\n",
    "plt.ylabel('Accumulated Sales Revenue')\n",
    "plt.grid(True)\n",
    "plt.xticks(rotation=90)\n",
    "plt.tight_layout()\n",
    "plt.show()"
   ]
  },
  {
   "cell_type": "markdown",
   "id": "e827d6ef",
   "metadata": {},
   "source": [
    "### Finding for the graph:\n",
    "### Above graph is for the Accumalated Sales Revenue During the Year and Quater, Here the sales revenue Started at very low and by the end it was very high and it is progressive growth with no other fluctuations"
   ]
  },
  {
   "cell_type": "markdown",
   "id": "8094f051",
   "metadata": {},
   "source": [
    "### c)Sales revenue changes quarterly per category. The graph displays the sales revenue for both categories over time."
   ]
  },
  {
   "cell_type": "code",
   "execution_count": 186,
   "id": "f9957dd7",
   "metadata": {},
   "outputs": [
    {
     "data": {
      "image/png": "[encoded data removed]",
      "text/plain": [
       "<Figure size 640x480 with 1 Axes>"
      ]
     },
     "metadata": {},
     "output_type": "display_data"
    }
   ],
   "source": [
    "category_sales = master_table_related.groupby(['Year', 'Quarter', 'Category'])['Amount'].sum().unstack()\n",
    "category_sales.plot(marker='o')\n",
    "plt.title('Sales Revenue Changes Quarterly Per Category')\n",
    "plt.xlabel('Year - Quarter')\n",
    "plt.ylabel('Total Sales Revenue')\n",
    "plt.grid(True)\n",
    "plt.xticks(rotation=90)\n",
    "plt.tight_layout()\n",
    "plt.legend(title='Category')\n",
    "plt.show()"
   ]
  },
  {
   "cell_type": "markdown",
   "id": "f1c02bb5",
   "metadata": {},
   "source": [
    "### Finding for the graph:\n",
    "    \n",
    "### The Graph is for the Total sales revenue for both categories i.e, Manufacturing and Tooling, where the Tooling starts at high Sales Revenue and Ended at Very low by the end of 2023 2nd Quarter where as the Manufacturing Category Sales Revenue starts in the Middle and has lot of fluctations and it is also down by the end of 2023 2nd quarter but it high point before downfall"
   ]
  },
  {
   "cell_type": "markdown",
   "id": "175df9cc",
   "metadata": {},
   "source": [
    "### d)Accumulated monthly revenue compared to the mean sales revenues over the time. This graph provides insights into busy vs. slow months. \n"
   ]
  },
  {
   "cell_type": "code",
   "execution_count": 188,
   "id": "d328c550",
   "metadata": {},
   "outputs": [
    {
     "name": "stderr",
     "output_type": "stream",
     "text": [
      "C:\\Users\\rahul\\AppData\\Local\\Temp\\ipykernel_11176\\1842026051.py:3: FutureWarning: Using the level keyword in DataFrame and Series aggregations is deprecated and will be removed in a future version. Use groupby instead. df.median(level=1) should use df.groupby(level=1).median().\n",
      "  monthly_sales.mean(level='Month').plot(label='Mean Revenue', linestyle='--')\n"
     ]
    },
    {
     "data": {
      "image/png": "[encoded data removed]",
      "text/plain": [
       "<Figure size 640x480 with 1 Axes>"
      ]
     },
     "metadata": {},
     "output_type": "display_data"
    }
   ],
   "source": [
    "monthly_sales = master_table_related.groupby(['Year', 'Month'])['Amount'].sum()\n",
    "monthly_sales.cumsum().plot(label='Accumulated Revenue', marker='o')\n",
    "monthly_sales.mean(level='Month').plot(label='Mean Revenue', linestyle='--')\n",
    "plt.title('Accumulated Monthly Revenue Compared to Mean Sales Revenues')\n",
    "plt.xlabel('Year - Month')\n",
    "plt.ylabel('Total Sales Revenue')\n",
    "plt.grid(True)\n",
    "plt.xticks(rotation=90)\n",
    "plt.tight_layout()\n",
    "plt.legend()\n",
    "plt.show()"
   ]
  },
  {
   "cell_type": "markdown",
   "id": "a24a9edd",
   "metadata": {},
   "source": [
    "### Finding for the Graph:\n",
    "### Above Graph has 2plots , one represent the Accumulated Monthly Revenue and other represents Mean Sales Revenue, Where Accumulated Monthly Revenue is is started at low and ended high with progressive growth and it has lot of data points in between as it is a comparision for year and months. Mean revenue started with at very low pace and it didn't extend further as there is issue and after 2017 there is no mean revenue"
   ]
  },
  {
   "cell_type": "markdown",
   "id": "4c0a1ca6",
   "metadata": {},
   "source": [
    "### e) The top five cities with the highest total sales revenues. "
   ]
  },
  {
   "cell_type": "code",
   "execution_count": 191,
   "id": "0dba63cd",
   "metadata": {},
   "outputs": [
    {
     "data": {
      "image/png": "[encoded data removed]",
      "text/plain": [
       "<Figure size 640x480 with 1 Axes>"
      ]
     },
     "metadata": {},
     "output_type": "display_data"
    }
   ],
   "source": [
    "top_cities_total_sales = master_table_related.groupby('Billing Address')['Amount'].sum().nlargest(5)\n",
    "top_cities_total_sales.plot(kind='bar', color='skyblue')\n",
    "plt.title('Top Five Cities with Highest Total Sales Revenues')\n",
    "plt.xlabel('City')\n",
    "plt.ylabel('Total Sales Revenue')\n",
    "plt.xticks(rotation=90)\n",
    "plt.tight_layout()\n",
    "plt.show()"
   ]
  },
  {
   "cell_type": "markdown",
   "id": "24eb61aa",
   "metadata": {},
   "source": [
    "### Finding for the Above graph:\n",
    "### Above is Bar Graph comparision for the Top Five cities and their Total Sales Revenue, where New York City and Armonk has highest sales Revenues which shows that the sales revenue from New York State is High. Among these Five cities Jacksonville, Florida has the least Sales revenue. Compared to the cities of new york other cities are having a major low sales revenue which are less than 0.5"
   ]
  },
  {
   "cell_type": "markdown",
   "id": "bf8557ce",
   "metadata": {},
   "source": [
    "### f) The top five cities with the highest revenue in the Tooling category.\n"
   ]
  },
  {
   "cell_type": "code",
   "execution_count": 192,
   "id": "0b1bd406",
   "metadata": {},
   "outputs": [
    {
     "data": {
      "image/png": "[encoded data removed]",
      "text/plain": [
       "<Figure size 640x480 with 1 Axes>"
      ]
     },
     "metadata": {},
     "output_type": "display_data"
    }
   ],
   "source": [
    "tooling_category_sales = master_table_related[master_table_related['Category'] == 'Tooling']\n",
    "top_cities_tooling_sales = tooling_category_sales.groupby('Billing Address')['Amount'].sum().nlargest(5)\n",
    "top_cities_tooling_sales.plot(kind='bar', color='orange')\n",
    "plt.title('Top Five Cities with Highest Revenue in Tooling Category')\n",
    "plt.xlabel('City')\n",
    "plt.ylabel('Total Sales Revenue')\n",
    "plt.xticks(rotation=90)\n",
    "plt.tight_layout()\n",
    "plt.show()"
   ]
  },
  {
   "cell_type": "markdown",
   "id": "a61101f9",
   "metadata": {},
   "source": [
    "### Finding for the Above graph:    \n",
    "### Above is Bar Graph comparision for the Top Five cities with Highest Revenue for the Tooling Category, Where the Again the sales revenue of the New york city and Armonk of New York State are very High which is close to 1.2 . Where Other cities like Guildford, Jacksonville and San Deigo are having considerabilly low Sales Revenue compared to former two cities, which are having sales revenueLess than 0.4 and more than 0.2 for the tooling catergory. This suggest that Tooling Category has the high Revenue in the New York State"
   ]
  }
 ],
 "metadata": {
  "kernelspec": {
   "display_name": "Python 3 (ipykernel)",
   "language": "python",
   "name": "python3"
  },
  "language_info": {
   "codemirror_mode": {
    "name": "ipython",
    "version": 3
   },
   "file_extension": ".py",
   "mimetype": "text/x-python",
   "name": "python",
   "nbconvert_exporter": "python",
   "pygments_lexer": "ipython3",
   "version": "3.11.5"
  }
 },
 "nbformat": 4,
 "nbformat_minor": 5
}
